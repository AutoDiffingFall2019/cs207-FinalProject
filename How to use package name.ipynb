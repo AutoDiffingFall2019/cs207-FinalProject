{
 "cells": [
  {
   "cell_type": "markdown",
   "metadata": {},
   "source": [
    "### How to Use PackageName###"
   ]
  },
  {
   "cell_type": "markdown",
   "metadata": {},
   "source": [
    "We envision that users who want to use our package can use “pip install” to install the package, and we will provide the “requirement.txt” to help users create correct environment."
   ]
  },
  {
   "attachments": {},
   "cell_type": "markdown",
   "metadata": {},
   "source": [
    "We will create a standard structure of package files as below:\n",
    "\n",
    "Package_AD/  \n",
    "&nbsp;&nbsp;AD/  \n",
    "&nbsp;&nbsp;&nbsp; &nbsp; \\_\\_init_\\_.py  \n",
    "&nbsp;&nbsp;README.md\t  \n",
    "&nbsp;&nbsp;setup.py  \n",
    "&nbsp;&nbsp;LICENSE  \n"
   ]
  },
  {
   "cell_type": "markdown",
   "metadata": {},
   "source": [
    "AD/ is the project directory where our package will locate. In README.md, we will describe the install process and usage of our package. Also we will give some examples about how to use the package in README.md. Setup.py is the build script for our package and LICENSE is the document that tells the users how to use and under what conditions they can use our package. "
   ]
  },
  {
   "cell_type": "markdown",
   "metadata": {},
   "source": [
    "The package will have one module named AD. Users can interact with our package in the terminal like following:"
   ]
  },
  {
   "cell_type": "code",
   "execution_count": null,
   "metadata": {},
   "outputs": [],
   "source": [
    "import AD\n",
    "import AD.AD_fun"
   ]
  },
  {
   "cell_type": "code",
   "execution_count": null,
   "metadata": {},
   "outputs": [],
   "source": [
    "## example 1\n",
    "#Dual_number is a class in module AD, user may specify initial value here or later. The value can be a vector or a number.\n",
    "x = AD.Dual_number()\n",
    "# AD_fun is a class where we define some elementary function derivative and calculate the derivative function.\n",
    "func= AD_fun.power(AD_fun.sin(x),2)\n",
    "# we can get the value and derivative from the attributes \"value\" and \"grad\". If we did not assign value and derivative direction in the fist\n",
    "# step, we can do it here. \n",
    "func.value(3, p=1)\n",
    "func.grad(3, p=1)"
   ]
  },
  {
   "cell_type": "code",
   "execution_count": null,
   "metadata": {},
   "outputs": [],
   "source": [
    "## example 2\n",
    "# we can input the value at the first step\n",
    "x = AD.Dual_number(3,p=1)\n",
    "func= AD_fun.power(AD_fun.sin(x),2)\n",
    "func.value()\n",
    "func.grad()"
   ]
  },
  {
   "cell_type": "code",
   "execution_count": null,
   "metadata": {},
   "outputs": [],
   "source": [
    "## example 3\n",
    "x = AD.Dual_number()\n",
    "func= AD_fun.power(AD_fun.sin(x),2)\n",
    "# we can input a vector of value here\n",
    "func.value([3,4,5,6],p=1)\n",
    "func.grad([3,4,5,6],p=1)"
   ]
  },
  {
   "cell_type": "code",
   "execution_count": null,
   "metadata": {},
   "outputs": [],
   "source": [
    "## example 4\n",
    "x = AD.Dual_number()\n",
    "# we can input a vector of function using class \"paralized\"\n",
    "func = [AD_fun.power(AD_fun.sin(x),2),AD_fun.cos(AD_fun.sin(x))]\n",
    "f = paralized(func)\n",
    "# we can input a vector of value here\n",
    "f.value([3,4,5,6],p=1)\n",
    "f.grad([3,4,5,6],p=1)"
   ]
  },
  {
   "cell_type": "markdown",
   "metadata": {},
   "source": [
    "In the end, the user can use post_process() function to visualize the results."
   ]
  }
 ],
 "metadata": {
  "kernelspec": {
   "display_name": "Python 3",
   "language": "python",
   "name": "python3"
  },
  "language_info": {
   "codemirror_mode": {
    "name": "ipython",
    "version": 3
   },
   "file_extension": ".py",
   "mimetype": "text/x-python",
   "name": "python",
   "nbconvert_exporter": "python",
   "pygments_lexer": "ipython3",
   "version": "3.7.3"
  }
 },
 "nbformat": 4,
 "nbformat_minor": 2
}
