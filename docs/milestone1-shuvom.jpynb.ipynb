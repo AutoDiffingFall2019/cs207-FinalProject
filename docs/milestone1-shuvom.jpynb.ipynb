{
 "cells": [
  {
   "cell_type": "markdown",
   "metadata": {},
   "source": [
    "# How to Use Package Name\n",
    "The purpose of this section is to give a sketch of how a user can interact with the package.\n",
    "\n",
    "We envision that users who want to use our package can use “pip install” to install the package, and we will provide the “requirements.txt” to help users create correct environment.\n",
    "\n",
    "We will create a standard structure of package files as below:\n",
    "```\n",
    "PackageAD/\n",
    "  AD/\n",
    "      ...\n",
    "  README.md\n",
    "  setup.py\n",
    "  LICENSE\n",
    "```\n",
    "AD/ is the project directory where our package will locate. In README.md, we will describe the install process and usage of our package. Also we will give some examples about how to use the package in README.md. setup.py is the build script for our package and LICENSE is the document that tells the users how to use and under what conditions they can use our package.\n",
    "\n",
    "The package will have one module named AD. Users can interact with our package as follows:\n"
   ]
  },
  {
   "cell_type": "markdown",
   "metadata": {},
   "source": [
    "## Example 1: Scalar-Valued Function of Scalar\n",
    "The user should _always_ set up variables along with their values using the DualNumber class.  The user can then perform operations and elementary functions on this variable.\n",
    "\n",
    "```python\n",
    "from AD.DualNumber import DualNumber\n",
    "from AD.ElementaryFunctions import ElemFunctions\n",
    "# DualNumber is a class in module AD, user must. The value can be a vector or a number.\n",
    "x = DualNumber(5, 'x')\n",
    "\n",
    "# ElemFunctions is a class where we define some elementary function derivatives and calculate the derivative function.\n",
    "func = ElemFunctions.sin(x)\n",
    "\n",
    "# we can get the value and derivative from the attributes \"value\" and \"der\". If we did not assign value and derivative direction in the fist\n",
    "# step, we can do it here. \n",
    "print(func.value)\n",
    "print(func.der)\n",
    "    \n",
    "```\n",
    "\n"
   ]
  },
  {
   "cell_type": "markdown",
   "metadata": {},
   "source": [
    "## Example 2: Scalar-Valued Function of Vector\n",
    "The user should _always_ set up variables along with their values using the DualNumber class.  With more than one variable, the user should first define each variable and then user the get_der method to get a specific partial derivative.  The user can also specify a direction to get a directional derivative.\n",
    "\n",
    "```python\n",
    "from AD.DualNumber import DualNumber\n",
    "from AD.ElementaryFunctions import ElemFunctions\n",
    "# DualNumber is a class in module AD, user must. The value can be a vector or a number.\n",
    "x = DualNumber(5, 'x')\n",
    "y = DualNumber(6, 'y')\n",
    "\n",
    "# ElemFunctions is a class where we define some elementary function derivatives and calculate the derivative function.\n",
    "func = ElemFunctions.sin(x*y)\n",
    "\n",
    "# we can get the value and derivative from the attributes \"value\" and \"der\". If we did not assign value and derivative direction in the fist\n",
    "# step, we can do it here. \n",
    "print(func.value)\n",
    "\n",
    "# get partial with respect to x\n",
    "print(func.get_der('x'))\n",
    "# get directional derivative\n",
    "print(func.get_der(direction = {'x': 1, 'y': 6}))\n",
    "    \n",
    "```"
   ]
  },
  {
   "cell_type": "markdown",
   "metadata": {},
   "source": [
    "In general, users should always:\n",
    "\n",
    "1. Initialize all variables (e.g. x, y) using a value and a name for each.\n",
    "2. Use elementary functions and operators as needed.\n",
    "3. Use get_grad for vector-valued inputs (with an argument for direction and/or partial) and .der for scalar-valued inputs."
   ]
  },
  {
   "cell_type": "markdown",
   "metadata": {},
   "source": [
    "# Software Organization\n",
    "\n",
    "## Directory Structure\n",
    "Our directory structure will be as follows (this is done with help from [Packaging](https://python-packaging.readthedocs.io/en/latest/index.html)):\n",
    "```\n",
    "AutoDiff/\n",
    "│   README.md\n",
    "│   LICENSE    \n",
    "│   setup.py \n",
    "│   requirements.txt\n",
    "│\n",
    "└───AD/\n",
    "│   │   __init__.py\n",
    "│   │   DualNumber.py\n",
    "│   │   ElementaryFunctions.py (each function implemented as a class)\n",
    "│   └───tests/\n",
    "│       │   ...\n",
    "│   └───visualizations/\n",
    "│       │   PostProcess.py\n",
    "│\n",
    "│    examples.py\n",
    "```"
   ]
  },
  {
   "cell_type": "markdown",
   "metadata": {},
   "source": [
    "## Modules\n",
    "\n",
    "### DualNumber\n",
    "DualNumber will allow the user to construct variables by inputting a value and a variable name.  It will overload operators to allow efficient adding, subtracting, etc of variables.\n",
    "\n",
    "### ElementaryFunctions\n",
    "ElementaryFunctions will allow the user to compute elementary functions of variables defined with DualNumber.  For example, a user may specify x=DualNumber('x', 5), function = ElementaryFunctions.ElemFunction.sin(x), function.der to compute the derivative of sin(x) at 5.\n",
    "\n",
    "### tests\n",
    "The tests module will contain test suites for each of the classes and will use pytest for this testing.\n",
    "\n",
    "### visualizations\n",
    "The visualizations module will have "
   ]
  },
  {
   "cell_type": "markdown",
   "metadata": {},
   "source": [
    "## Test Suite\n",
    "We will use TravisCI and CodeCov for continuous integration, and our test suite will be in the /tests subdirectory."
   ]
  },
  {
   "cell_type": "markdown",
   "metadata": {},
   "source": [
    "## Distribution\n",
    "We will distribute our package using PyPI to allow our users to use pip to install our package.  We will not use any specific frameworks as through online reading there seem to be no particular benefits to using frameworks (frameworks are often used for web hosting and creating web applications, neither of which we currently plan to do)."
   ]
  },
  {
   "cell_type": "markdown",
   "metadata": {},
   "source": [
    "# Implementation\n",
    "\n",
    "## Classes and Data Structures\n",
    "\n",
    "After reviewing the literature ([1](https://arxiv.org/pdf/1811.05031.pdf), [2](http://www.jmlr.org/papers/volume18/17-468/17-468.pdf), and [3](https://www.mcs.anl.gov/papers/P1152.pdf)), we concluded that we'd make use of _operator overloading_ for implementing dual numbers for the forward mode of automatic differentiation.\n"
   ]
  },
  {
   "cell_type": "markdown",
   "metadata": {},
   "source": [
    "### DualNumber()\n",
    "The DualNumber() superclass will make up the core of our setup. The user may interact with the class to set up scalar- or vector-valued variables that will later be inputed into functions.  When constructing a DualNumber object, the user should _always_ specify a value and variable name (as a string) for the object as follows:\n",
    "\n",
    "1. x = DualNumber(5, 'x')\n",
    "\n",
    "DualNumber will then store the variable name, 'x', and its value, 5 in the DualNumber data structure.  DualNumber will also be used to overload basic operations such as adding, subtracting, multiplying, and dividing.  \n",
    "\n",
    "To demonstrate the functionality of this class, let's focus on the overloaded \\_\\_add__ operator. Note that there are two regimes we should consider: (1) the case in which both the operands are the same variable (scalar-valued), (2) the case in which the operands are different variables.  The first case is relatively straightforward and we simply handle it by adding the derivatives and the values.  So, if the function is $f(x) = x^2 + \\sin(x)$ evaluated at $x=5$, we just add the two functions' values $5^2 + \\sin(5)$ and their derivatives. Here, it would look as follows:\n",
    "1. x = DualNumber(5, 'x')\n",
    "2. f = ElemFunctions.pow(x, 2) + ElemFunctions.sin(x)\n",
    "3. print(f.val, f.der)\n",
    "\n",
    "In the case where we have a vector-valued input, we create a dictionary to store the gradient (i.e. store the partials).  So, if we have $f(x,y) = x + y$, we'd have a gradient dictionary with the form $\\{'x': 1, 'y': 1\\}$.  To extract a specific partial derivative, the user can input f.get\\_der('x').\n",
    "\n",
    "The principles guiding this software design are grounded in its simplicity and robustness.  \n",
    "\n",
    "1. Each object in our automatic differentiation scheme will inherit from DualNumber() (for example, ElemFunctions(), explained below, is just an extension of DualNumber()) since all objects will have a value and gradient. \n",
    "2. Using the dictionary datatype to keep track of partial derivatives will allow the user clarity in specifying which variables to differentiate.  Theoretically, we could base this entire process in numpy arrays (and may do so in the future), but for an initial and clear implementation, having a dictionary helps us keep track of all the derivatives at once.\n",
    "3. Overriding each of the methods will allow fast and easy computation of the derivatives and their values.  Storing the variable names in the dictionary will also allow us to simultaneously keep track of all partials.\n",
    "\n",
    "Last, we have an argument _direction_ to the get\\_gradient method, which can be used to extract a directional derivative.  While this is not fully implemented in our pseudocode (as it is merely pseudocode), the user could extract a directional derivative by specifying f.get_der(direction={'x': 1, 'y': 3}).\n",
    "\n",
    "In the future, we wish to have an option for users to input the value later, during the calculation of the derivative (as opposed to first specifying the value), and we talked to Daniel at OH about this idea, but for now, we keep the implementation relatively simple to ensure our code is up and running.\n",
    "\n",
    "Pseudocode for this class is included below:"
   ]
  },
  {
   "cell_type": "markdown",
   "metadata": {},
   "source": [
    "```python\n",
    "import numpy as np\n",
    "\n",
    "class DualNumber():\n",
    "    '''\n",
    "    Description: a class to hold dual number representations of vectors/scalars.\n",
    "    '''\n",
    "    \n",
    "    def __init__(self, real_part, imag_part=1, variables):\n",
    "        if type(real_part) or type(imag_part) == str:\n",
    "            # Ensure that the input into constructor is valid\n",
    "            raise(ValueError('The input cannot be string'))\n",
    "            \n",
    "        elif len(real_part) != len(image_part):\n",
    "            raise ValueError\n",
    "            \n",
    "        else:\n",
    "            # intialization should just have one variable in init\n",
    "            self.val=dict(zip(variables, real_part))\n",
    "            self.der=dict(zip(variables, np.ones(len(real_part)) # set initial imaginary part to 1, since this represents the derivative of x\n",
    "            self.variables = list(variables)\n",
    "            \n",
    "    \n",
    "    def __add__(self, second_var):\n",
    "        if self.variables == second_var.variables:\n",
    "            #Override default adding with dunder method\n",
    "            self.val = self.val + second_var.val\n",
    "            self.der = self.der + second_var.der\n",
    "        else:\n",
    "            # the value should still be the sum of both functions, even if both are different variables\n",
    "            self.val = self.val + second_var.val\n",
    "                              \n",
    "            for each variable in self and second_var:\n",
    "                self.der[variable] = self.der[variable] + second_var.der[variable]\n",
    "            for variables only in second_var:\n",
    "                self.der[variable] = second_var.val[variable]\n",
    "            \n",
    "        \n",
    "    def __radd__(self,second_var):\n",
    "        # This function should be able to handle left and right add\n",
    "        \n",
    "    def __mul__(self,second_var):\n",
    "        #Similarly, we can override mutiply\n",
    "    def __rmul__(self,second_var):\n",
    "        #Similarly, we can override right mutiply\n",
    "        \n",
    "    def __sub__(self,second_var):\n",
    "        #Similarly, we can override subtraction\n",
    "    def __rsub__(self,second_var):\n",
    "        #Similarly, we can override right subtraction\n",
    "        \n",
    "    def __div__(self, second_var):\n",
    "    def __rdiv__(self, second_var):\n",
    "                              \n",
    "    def get_value(self):\n",
    "        # sum the values of the function at each variable\n",
    "        return sum(self.val.values())\n",
    "                              \n",
    "    def get_der(self, variable, direction=None):\n",
    "        if direction is None:\n",
    "            return self.der[variable]\n",
    "        else:\n",
    "            return directional derivative\n",
    "            \n",
    "    \n",
    "```"
   ]
  },
  {
   "cell_type": "markdown",
   "metadata": {},
   "source": [
    "### ElemFunctions()\n",
    "\n",
    "We will also implement a class ElemFunctions() which will inherit from DualNumber.  Here we will allow the user to \n",
    "Note that we should be careful about how the function is called when we have multiple variables.  For example, suppose the user defines:\n",
    "\n",
    "1. x = DualNumber(5, 'x')\n",
    "2. y = DualNumber(6, 'y')\n",
    "3. f = ElemFunctions.exp(x*y)\n",
    "\n",
    "Then, the DualNumber object $xy$ will have a dictionary of derivatives for $x,y$, and we must augment each of these derivatives in the exp method.\n",
    "\n",
    "Recall, if $f(x, y) = e^{xy}$, then $f_y(x,y) = xe^{xy}$, so we should set f.der['y'] = np.exp(xy.val)* xy.der['y'].  Again, this design allows simplicity and clarity in design, as the user only has to initialize each variable once as a DualNumber object and then may take an arbitary combination of elementary functions and operators on this set of variables to get more complicated functions.  This allows us to find gradients of scalar-valued vector functions.\n",
    "\n",
    "We implement this process below:\n"
   ]
  },
  {
   "cell_type": "markdown",
   "metadata": {},
   "source": [
    "```python\n",
    "import numpy as np\n",
    "\n",
    "class ElemFunctions(DualNumber):\n",
    "\n",
    "    def exp(self, x):\n",
    "        # first: assert x is DualNumber (which could also be AutoDiff object)\n",
    "        self.value= np.exp(x.value)\n",
    "        for each variable:\n",
    "            self.der[variable] = np.exp(x.value)*x.der[variable]\n",
    "            \n",
    "    def sin(self,x):\n",
    "        #Similarly, we can give user defined sin function, \n",
    "        self.value= np.sin(x.value)\n",
    "        for each variable:\n",
    "            self.der[variable] = np.cos(x.value)*x.der[variable]\n",
    "        \n",
    "    def cos(self,x):#Similarly, we can give user defined cos function, \n",
    "    def log(self,x):#Similarly, we can give user defined log function, \n",
    "        \n",
    "```"
   ]
  },
  {
   "cell_type": "markdown",
   "metadata": {},
   "source": [
    "We will also have a class Parallelized(), which will allow us to compute the Jacobian of vector-valued functions of vectors.  \n",
    "\n",
    "We will not outline this class in pseudocode but rather in words.  Suppose our output is $m$ dimensional, then Parallelized will construct $m$ DualNumber objects, one for each of the outputs, by looping over each of the outputs.  It will construct the gradient of each variable in the DualNumber (and ElemFunction()) class and construct the Jacobian matrix by concatenating each of these gradients into one matrix.\n",
    "\n",
    "Last, we will also have a class Visualizations(), in which we hope to implement a few computational graph visualizations of automatic differentiation."
   ]
  },
  {
   "cell_type": "markdown",
   "metadata": {},
   "source": [
    "## External Dependencies\n",
    "We will try to limit our external dependencies, but we will have to use **numpy** (and possibly **math**) for our elementary functions and array/matrix manipulation.  We will also use **pytest** and **pytest-cov** for test suites."
   ]
  },
  {
   "cell_type": "code",
   "execution_count": null,
   "metadata": {},
   "outputs": [],
   "source": []
  },
  {
   "cell_type": "code",
   "execution_count": null,
   "metadata": {},
   "outputs": [],
   "source": []
  }
 ],
 "metadata": {
  "kernelspec": {
   "display_name": "Python 3",
   "language": "python",
   "name": "python3"
  },
  "language_info": {
   "codemirror_mode": {
    "name": "ipython",
    "version": 3
   },
   "file_extension": ".py",
   "mimetype": "text/x-python",
   "name": "python",
   "nbconvert_exporter": "python",
   "pygments_lexer": "ipython3",
   "version": "3.7.4"
  }
 },
 "nbformat": 4,
 "nbformat_minor": 2
}
